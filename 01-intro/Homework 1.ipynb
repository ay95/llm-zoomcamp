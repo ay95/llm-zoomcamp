{
 "cells": [
  {
   "cell_type": "code",
   "execution_count": 1,
   "id": "5124812f-219b-44e4-9b36-954ef0859800",
   "metadata": {},
   "outputs": [],
   "source": [
    "import openai"
   ]
  },
  {
   "cell_type": "code",
   "execution_count": 2,
   "id": "1fbb7eab-f91d-4832-bb68-e82e327e269b",
   "metadata": {},
   "outputs": [],
   "source": [
    "from openai import OpenAI"
   ]
  },
  {
   "cell_type": "code",
   "execution_count": 3,
   "id": "1e57f710-d7c7-4e01-81ed-580663546660",
   "metadata": {},
   "outputs": [],
   "source": [
    "client = OpenAI()"
   ]
  },
  {
   "cell_type": "code",
   "execution_count": 4,
   "id": "58661f01-fe92-478d-addb-cc9c4d303dd2",
   "metadata": {},
   "outputs": [],
   "source": [
    "response = client.chat.completions.create(\n",
    "    model = 'gpt-4o',\n",
    "    messages=[{\"role\":\"user\", \"content\":\"Is it too late to join the course?\"}]\n",
    ")"
   ]
  },
  {
   "cell_type": "code",
   "execution_count": 8,
   "id": "cea0ac76-f926-43a7-b1f8-dbe0f353e660",
   "metadata": {},
   "outputs": [
    {
     "data": {
      "text/plain": [
       "\"I'm not sure which course you're referring to, but generally speaking, whether it's too late to join a course depends on several factors, such as:\\n\\n1. **Enrollment Deadline:** Check if the course has a specific enrollment deadline. Some courses have strict cutoff dates, while others may allow late enrollment.\\n\\n2. **Course Progress:** Consider how far along the course is. If it's early in the semester or term, you might still have time to catch up. However, if the course is near completion, catching up might be challenging.\\n\\n3. **Instructor's Policy:** Some instructors may allow late enrollment with their permission. It’s a good idea to reach out to them directly to inquire about possible options.\\n\\n4. **Course Format:** Online courses might offer more flexibility with rolling admissions or self-paced options, allowing you to join at any time.\\n\\n5. **Availability of Resources:** Ensure that you will have access to all necessary learning materials and support to help you catch up on missed content.\\n\\nIf you provide more specifics, I might be able to give a more tailored response.\""
      ]
     },
     "execution_count": 8,
     "metadata": {},
     "output_type": "execute_result"
    }
   ],
   "source": [
    "response.choices[0].message.content"
   ]
  },
  {
   "cell_type": "code",
   "execution_count": null,
   "id": "81e6a40f-50f4-42ff-93db-37f3b194510a",
   "metadata": {},
   "outputs": [],
   "source": []
  }
 ],
 "metadata": {
  "kernelspec": {
   "display_name": "Python 3 (ipykernel)",
   "language": "python",
   "name": "python3"
  },
  "language_info": {
   "codemirror_mode": {
    "name": "ipython",
    "version": 3
   },
   "file_extension": ".py",
   "mimetype": "text/x-python",
   "name": "python",
   "nbconvert_exporter": "python",
   "pygments_lexer": "ipython3",
   "version": "3.12.1"
  }
 },
 "nbformat": 4,
 "nbformat_minor": 5
}
