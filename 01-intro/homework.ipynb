{
 "cells": [
  {
   "cell_type": "code",
   "execution_count": 1,
   "id": "db59de56-b2e4-4b0a-b10a-b478c6472097",
   "metadata": {},
   "outputs": [],
   "source": [
    "import openai"
   ]
  },
  {
   "cell_type": "code",
   "execution_count": 3,
   "id": "4cffcfe2-2776-4f5d-bdea-5f0f6386453e",
   "metadata": {},
   "outputs": [],
   "source": [
    "from openai import OpenAI"
   ]
  },
  {
   "cell_type": "code",
   "execution_count": null,
   "id": "b8b7a701-6ae3-4422-a5ea-dbf3639955ae",
   "metadata": {},
   "outputs": [],
   "source": [
    "client = OpenAI()"
   ]
  },
  {
   "cell_type": "code",
   "execution_count": 6,
   "id": "262351c1-1020-4631-85ee-2841b713beba",
   "metadata": {},
   "outputs": [],
   "source": [
    "import os"
   ]
  },
  {
   "cell_type": "code",
   "execution_count": 11,
   "id": "ed0dae48-5436-429c-86a6-8b10578b3d8b",
   "metadata": {},
   "outputs": [],
   "source": [
    "response = client.chat.completions.create(\n",
    "    model='gpt-4o',\n",
    "    messages = [{\"role\":\"user\",\"content\":\"is it too late to join the course?\"}]\n",
    ")"
   ]
  },
  {
   "cell_type": "code",
   "execution_count": 13,
   "id": "dc56280a-b5ff-4c5e-b392-aad1c322d562",
   "metadata": {},
   "outputs": [
    {
     "data": {
      "text/plain": [
       "\"It's difficult for me to determine whether it's too late to join a specific course without more context. Course deadlines can vary significantly depending on the institution, the type of course, and its schedule (e.g., semester, quarter, short-term, or online self-paced). Here are some steps you can take to find out:\\n\\n1. **Check the course details:** Look for information on the course website or brochure for enrollment deadlines and schedules.\\n\\n2. **Contact the institution:** Reach out to the admissions office or the course administrator to get precise information on registration deadlines.\\n\\n3. **Look for waitlist options:** Some courses offer waitlists if they are full, allowing you to join if a spot opens up.\\n\\n4. **Consider future sessions:** If it’s too late for the current session, check when the next offering will be available.\\n\\nIf you provide more specific details about the course, I might be able to offer more tailored advice.\""
      ]
     },
     "execution_count": 13,
     "metadata": {},
     "output_type": "execute_result"
    }
   ],
   "source": [
    "response.choices[0].message.content"
   ]
  },
  {
   "cell_type": "code",
   "execution_count": null,
   "id": "9be95700-c309-4f54-92b8-6427a4afc63b",
   "metadata": {},
   "outputs": [],
   "source": []
  }
 ],
 "metadata": {
  "kernelspec": {
   "display_name": "Python 3 (ipykernel)",
   "language": "python",
   "name": "python3"
  },
  "language_info": {
   "codemirror_mode": {
    "name": "ipython",
    "version": 3
   },
   "file_extension": ".py",
   "mimetype": "text/x-python",
   "name": "python",
   "nbconvert_exporter": "python",
   "pygments_lexer": "ipython3",
   "version": "3.12.1"
  }
 },
 "nbformat": 4,
 "nbformat_minor": 5
}
