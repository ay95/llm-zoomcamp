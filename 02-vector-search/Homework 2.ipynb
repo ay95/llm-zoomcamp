{
 "cells": [
  {
   "cell_type": "code",
   "execution_count": 1,
   "id": "2d617b83-1895-4a4e-a0e3-ee8b62839c31",
   "metadata": {},
   "outputs": [],
   "source": [
    "from fastembed import TextEmbedding"
   ]
  },
  {
   "cell_type": "code",
   "execution_count": 2,
   "id": "11c920c9-f3f3-4d5a-a74a-58df5a73f637",
   "metadata": {},
   "outputs": [],
   "source": [
    "model = TextEmbedding(model_name=\"jinaai/jina-embeddings-v2-small-en\")"
   ]
  },
  {
   "cell_type": "code",
   "execution_count": 3,
   "id": "28d65129-849c-463a-8ebc-82e2f93b66c2",
   "metadata": {},
   "outputs": [],
   "source": [
    "query = \"I just discovered the course. Can I join now?\""
   ]
  },
  {
   "cell_type": "code",
   "execution_count": 4,
   "id": "2b2d9a4a-19fd-47ed-b99c-5f913d277f22",
   "metadata": {},
   "outputs": [],
   "source": [
    "q = list(model.embed(query))[0]"
   ]
  },
  {
   "cell_type": "code",
   "execution_count": 5,
   "id": "ab664cb1-46db-4451-955c-9bd5eefeb2b4",
   "metadata": {},
   "outputs": [
    {
     "data": {
      "text/plain": [
       "512"
      ]
     },
     "execution_count": 5,
     "metadata": {},
     "output_type": "execute_result"
    }
   ],
   "source": [
    "q.size"
   ]
  },
  {
   "cell_type": "code",
   "execution_count": 6,
   "id": "890ea01c-b540-4e20-ab66-0353adcca3ee",
   "metadata": {},
   "outputs": [
    {
     "data": {
      "text/plain": [
       "np.float64(-0.11726373885183883)"
      ]
     },
     "execution_count": 6,
     "metadata": {},
     "output_type": "execute_result"
    }
   ],
   "source": [
    "#Question 1\n",
    "q.min()"
   ]
  },
  {
   "cell_type": "code",
   "execution_count": 7,
   "id": "b673c270-375e-485f-8148-fd0a7c994a59",
   "metadata": {},
   "outputs": [
    {
     "data": {
      "text/plain": [
       "np.float64(1.0)"
      ]
     },
     "execution_count": 7,
     "metadata": {},
     "output_type": "execute_result"
    }
   ],
   "source": [
    "import numpy as np\n",
    "np.linalg.norm(q)"
   ]
  },
  {
   "cell_type": "code",
   "execution_count": 8,
   "id": "478d6271-b30a-4d52-93ae-c4a0f17546ce",
   "metadata": {},
   "outputs": [
    {
     "data": {
      "text/plain": [
       "np.float64(1.0000000000000002)"
      ]
     },
     "execution_count": 8,
     "metadata": {},
     "output_type": "execute_result"
    }
   ],
   "source": [
    "q.dot(q)"
   ]
  },
  {
   "cell_type": "code",
   "execution_count": 9,
   "id": "7e7f1561-d4cc-44db-889d-354f5298dd60",
   "metadata": {},
   "outputs": [],
   "source": [
    "q2 = list(model.embed(\"Can I still join the course after the start date?\"))[0]"
   ]
  },
  {
   "cell_type": "code",
   "execution_count": 10,
   "id": "1b310b11-723a-4ebe-92b9-809bc7a32211",
   "metadata": {},
   "outputs": [
    {
     "data": {
      "text/plain": [
       "np.float64(0.9008528895674548)"
      ]
     },
     "execution_count": 10,
     "metadata": {},
     "output_type": "execute_result"
    }
   ],
   "source": [
    "# Question 2\n",
    "q2.dot(q)"
   ]
  },
  {
   "cell_type": "code",
   "execution_count": 11,
   "id": "64614798-893c-475f-a09a-8923ea434630",
   "metadata": {},
   "outputs": [],
   "source": [
    "documents = [{'text': \"Yes, even if you don't register, you're still eligible to submit the homeworks.\\nBe aware, however, that there will be deadlines for turning in the final projects. So don't leave everything for the last minute.\",\n",
    "  'section': 'General course-related questions',\n",
    "  'question': 'Course - Can I still join the course after the start date?',\n",
    "  'course': 'data-engineering-zoomcamp'},\n",
    " {'text': 'Yes, we will keep all the materials after the course finishes, so you can follow the course at your own pace after it finishes.\\nYou can also continue looking at the homeworks and continue preparing for the next cohort. I guess you can also start working on your final capstone project.',\n",
    "  'section': 'General course-related questions',\n",
    "  'question': 'Course - Can I follow the course after it finishes?',\n",
    "  'course': 'data-engineering-zoomcamp'},\n",
    " {'text': \"The purpose of this document is to capture frequently asked technical questions\\nThe exact day and hour of the course will be 15th Jan 2024 at 17h00. The course will start with the first  “Office Hours'' live.1\\nSubscribe to course public Google Calendar (it works from Desktop only).\\nRegister before the course starts using this link.\\nJoin the course Telegram channel with announcements.\\nDon’t forget to register in DataTalks.Club's Slack and join the channel.\",\n",
    "  'section': 'General course-related questions',\n",
    "  'question': 'Course - When will the course start?',\n",
    "  'course': 'data-engineering-zoomcamp'},\n",
    " {'text': 'You can start by installing and setting up all the dependencies and requirements:\\nGoogle cloud account\\nGoogle Cloud SDK\\nPython 3 (installed with Anaconda)\\nTerraform\\nGit\\nLook over the prerequisites and syllabus to see if you are comfortable with these subjects.',\n",
    "  'section': 'General course-related questions',\n",
    "  'question': 'Course - What can I do before the course starts?',\n",
    "  'course': 'data-engineering-zoomcamp'},\n",
    " {'text': 'Star the repo! Share it with friends if you find it useful ❣️\\nCreate a PR if you see you can improve the text or the structure of the repository.',\n",
    "  'section': 'General course-related questions',\n",
    "  'question': 'How can we contribute to the course?',\n",
    "  'course': 'data-engineering-zoomcamp'}]"
   ]
  },
  {
   "cell_type": "code",
   "execution_count": 12,
   "id": "65dedacb-c78f-425e-a120-e7e15111311d",
   "metadata": {},
   "outputs": [],
   "source": [
    "texts = [doc['text'] for doc in documents]"
   ]
  },
  {
   "cell_type": "code",
   "execution_count": 13,
   "id": "cbc6662b-8322-43b6-a7d9-dfe0c0e0223b",
   "metadata": {},
   "outputs": [],
   "source": [
    "full_texts = [doc['question'] + ' ' + doc['text'] for doc in documents]"
   ]
  },
  {
   "cell_type": "code",
   "execution_count": 14,
   "id": "819866ef-9d10-47ec-8216-2a7c6ccc5f92",
   "metadata": {},
   "outputs": [],
   "source": [
    "def find_best_match(text_list, query_text):\n",
    "\n",
    "    text_embeddings = np.array(list(model.embed(text_list)))\n",
    "    query_embedding = list(model.embed([query_text]))[0]\n",
    "\n",
    "    # Compute cosine similarities\n",
    "    cosine_similarities = text_embeddings.dot(query_embedding)\n",
    "\n",
    "    # Get the index of the highest similarity\n",
    "    best_index = np.argmax(cosine_similarities)\n",
    "\n",
    "    return best_index"
   ]
  },
  {
   "cell_type": "code",
   "execution_count": 15,
   "id": "0967a278-1da5-4119-9716-a609389f0842",
   "metadata": {},
   "outputs": [
    {
     "data": {
      "text/plain": [
       "np.int64(1)"
      ]
     },
     "execution_count": 15,
     "metadata": {},
     "output_type": "execute_result"
    }
   ],
   "source": [
    "#Question 3\n",
    "find_best_match(texts,query)"
   ]
  },
  {
   "cell_type": "code",
   "execution_count": 16,
   "id": "070e51e2-d503-4ae9-a2ec-e2cd3edb5ee3",
   "metadata": {},
   "outputs": [
    {
     "data": {
      "text/plain": [
       "np.int64(0)"
      ]
     },
     "execution_count": 16,
     "metadata": {},
     "output_type": "execute_result"
    }
   ],
   "source": [
    "#Question 4\n",
    "find_best_match(full_texts,query)"
   ]
  },
  {
   "cell_type": "code",
   "execution_count": 17,
   "id": "1e9838bf-da58-4c7f-9b50-809aeb38f0ee",
   "metadata": {},
   "outputs": [
    {
     "data": {
      "text/plain": [
       "384"
      ]
     },
     "execution_count": 17,
     "metadata": {},
     "output_type": "execute_result"
    }
   ],
   "source": [
    "model = TextEmbedding(model_name=\"BAAI/bge-small-en-v1.5\")\n",
    "q5_1 = list(model.embed(query))\n",
    "len(q5_1[0])"
   ]
  },
  {
   "cell_type": "code",
   "execution_count": 18,
   "id": "6e1e424c-1903-48cc-9b88-46586a3bc0e3",
   "metadata": {},
   "outputs": [],
   "source": [
    "from fastembed import TextEmbedding\n",
    "from fastembed.common.model_description import PoolingType, ModelSource\n",
    "\n",
    "TextEmbedding.add_custom_model(\n",
    "    model=\"intfloat/multilingual-e5-small-256\",\n",
    "    pooling=PoolingType.MEAN,\n",
    "    normalization=True,\n",
    "    sources=ModelSource(hf=\"intfloat/multilingual-e5-small\"),  # can be used with an `url` to load files from a private storage\n",
    "    dim=256,\n",
    "    model_file=\"onnx/model.onnx\",  # can be used to load an already supported model with another optimization or quantization, e.g. onnx/model_O4.onnx\n",
    ")\n"
   ]
  },
  {
   "cell_type": "code",
   "execution_count": 19,
   "id": "6018edc5-112f-461d-b695-6e1c7ee63096",
   "metadata": {},
   "outputs": [],
   "source": [
    "model = TextEmbedding(model_name=\"intfloat/multilingual-e5-small-256\")\n",
    "q5_3 = list(model.embed(query))"
   ]
  },
  {
   "cell_type": "code",
   "execution_count": 20,
   "id": "10b6bbd2-f2da-424d-a117-d4cc29647261",
   "metadata": {},
   "outputs": [
    {
     "data": {
      "text/plain": [
       "384"
      ]
     },
     "execution_count": 20,
     "metadata": {},
     "output_type": "execute_result"
    }
   ],
   "source": [
    "q5_3[0].size"
   ]
  },
  {
   "cell_type": "markdown",
   "id": "3adc30e4-f5c3-45c0-918e-16d2dff1f8cb",
   "metadata": {},
   "source": [
    "## Question 6"
   ]
  },
  {
   "cell_type": "code",
   "execution_count": 21,
   "id": "91dd3a49-132b-4e87-a38c-a8047019dd39",
   "metadata": {},
   "outputs": [],
   "source": [
    "from qdrant_client import QdrantClient, models"
   ]
  },
  {
   "cell_type": "code",
   "execution_count": 22,
   "id": "fa030438-4e9e-4fa6-8a64-bf82f716e6f6",
   "metadata": {},
   "outputs": [],
   "source": [
    "qd_client = QdrantClient(\"http://localhost:6333\")"
   ]
  },
  {
   "cell_type": "code",
   "execution_count": 23,
   "id": "fad20bc3-50ab-4976-b05b-f2a6a07c8552",
   "metadata": {},
   "outputs": [],
   "source": [
    "EMBEDDING_DIMENSIONALITY = 384"
   ]
  },
  {
   "cell_type": "code",
   "execution_count": 24,
   "id": "3681e891-886b-4c90-80dc-3f02021f5da7",
   "metadata": {},
   "outputs": [],
   "source": [
    "model_handle = \"BAAI/bge-small-en\""
   ]
  },
  {
   "cell_type": "code",
   "execution_count": 25,
   "id": "61c2467b-1139-45d3-8208-41861f5d3622",
   "metadata": {},
   "outputs": [],
   "source": [
    "collection_name = \"Homework-2\""
   ]
  },
  {
   "cell_type": "code",
   "execution_count": 26,
   "id": "5ecccf01-5d52-434f-b43e-34ca997559b7",
   "metadata": {},
   "outputs": [
    {
     "data": {
      "text/plain": [
       "True"
      ]
     },
     "execution_count": 26,
     "metadata": {},
     "output_type": "execute_result"
    }
   ],
   "source": [
    "if qd_client.collection_exists(collection_name=collection_name):\n",
    "    qd_client.delete_collection(collection_name=collection_name)\n",
    "qd_client.create_collection(\n",
    "    collection_name=collection_name,\n",
    "    vectors_config=models.VectorParams(\n",
    "        size=EMBEDDING_DIMENSIONALITY,\n",
    "        distance=models.Distance.COSINE\n",
    "    )\n",
    ")"
   ]
  },
  {
   "cell_type": "code",
   "execution_count": 27,
   "id": "f236edb7-dd8d-495a-bb90-61ea1b069bb2",
   "metadata": {},
   "outputs": [
    {
     "data": {
      "text/plain": [
       "UpdateResult(operation_id=1, status=<UpdateStatus.COMPLETED: 'completed'>)"
      ]
     },
     "execution_count": 27,
     "metadata": {},
     "output_type": "execute_result"
    }
   ],
   "source": [
    "qd_client.create_payload_index(\n",
    "    collection_name=collection_name,\n",
    "    field_name=\"course\",\n",
    "    field_schema=\"keyword\"\n",
    ")"
   ]
  },
  {
   "cell_type": "code",
   "execution_count": 28,
   "id": "ccdb1e7d-4912-4a3e-99cb-137875b07207",
   "metadata": {},
   "outputs": [],
   "source": [
    "import requests \n",
    "\n",
    "docs_url = 'https://github.com/alexeygrigorev/llm-rag-workshop/raw/main/notebooks/documents.json'\n",
    "docs_response = requests.get(docs_url)\n",
    "documents_raw = docs_response.json()\n",
    "\n",
    "\n",
    "documents = []\n",
    "\n",
    "for course in documents_raw:\n",
    "    course_name = course['course']\n",
    "    if course_name != 'machine-learning-zoomcamp':\n",
    "        continue\n",
    "\n",
    "    for doc in course['documents']:\n",
    "        doc['course'] = course_name\n",
    "        documents.append(doc)"
   ]
  },
  {
   "cell_type": "code",
   "execution_count": 29,
   "id": "34cd6417-2b71-4ec0-95cd-acd6afc50506",
   "metadata": {},
   "outputs": [],
   "source": [
    "points = []\n",
    "\n",
    "for i, doc in enumerate(documents):\n",
    "    text = doc['question'] + ' ' + doc['text']\n",
    "    vector = models.Document(text=text, model=model_handle)\n",
    "    point = models.PointStruct(\n",
    "        id=i,\n",
    "        vector=vector,\n",
    "        payload=doc\n",
    "    )\n",
    "    points.append(point)"
   ]
  },
  {
   "cell_type": "code",
   "execution_count": 30,
   "id": "4bdbd676-0256-4472-9509-db413bb14a7e",
   "metadata": {},
   "outputs": [
    {
     "data": {
      "text/plain": [
       "375"
      ]
     },
     "execution_count": 30,
     "metadata": {},
     "output_type": "execute_result"
    }
   ],
   "source": [
    "len(points)"
   ]
  },
  {
   "cell_type": "code",
   "execution_count": 31,
   "id": "a07f2a2a-c68d-499d-9baa-477933c34171",
   "metadata": {},
   "outputs": [
    {
     "data": {
      "text/plain": [
       "UpdateResult(operation_id=2, status=<UpdateStatus.COMPLETED: 'completed'>)"
      ]
     },
     "execution_count": 31,
     "metadata": {},
     "output_type": "execute_result"
    }
   ],
   "source": [
    "qd_client.upsert(\n",
    "    collection_name=collection_name,\n",
    "    points=points\n",
    ")"
   ]
  },
  {
   "cell_type": "code",
   "execution_count": 32,
   "id": "b1dda7b5-39da-4f64-93e3-bb8c6865f8a4",
   "metadata": {},
   "outputs": [],
   "source": [
    "query_points = qd_client.query_points(\n",
    "    collection_name=collection_name,\n",
    "    query=models.Document(\n",
    "        text=query,\n",
    "        model=model_handle \n",
    "    ),\n",
    "    limit=5,\n",
    "    with_payload=True\n",
    ")"
   ]
  },
  {
   "cell_type": "code",
   "execution_count": 34,
   "id": "49c375a7-547c-456b-b573-a8402a4a7ed8",
   "metadata": {},
   "outputs": [
    {
     "name": "stdout",
     "output_type": "stream",
     "text": [
      "0.87031734\n",
      "0.8691884\n",
      "0.8683311\n",
      "0.8576106\n",
      "0.857154\n"
     ]
    }
   ],
   "source": [
    "#Question6\n",
    "for point in query_points.points:\n",
    "    print(point.score)"
   ]
  },
  {
   "cell_type": "code",
   "execution_count": null,
   "id": "4fb6c0e4-671e-4574-b8fb-cf38cd31bcbf",
   "metadata": {},
   "outputs": [],
   "source": []
  }
 ],
 "metadata": {
  "kernelspec": {
   "display_name": "Python 3 (ipykernel)",
   "language": "python",
   "name": "python3"
  },
  "language_info": {
   "codemirror_mode": {
    "name": "ipython",
    "version": 3
   },
   "file_extension": ".py",
   "mimetype": "text/x-python",
   "name": "python",
   "nbconvert_exporter": "python",
   "pygments_lexer": "ipython3",
   "version": "3.12.1"
  }
 },
 "nbformat": 4,
 "nbformat_minor": 5
}
